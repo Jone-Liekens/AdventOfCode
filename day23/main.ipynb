{
 "cells": [
  {
   "cell_type": "code",
   "execution_count": 12,
   "metadata": {},
   "outputs": [],
   "source": [
    "# needed for both parts\n",
    "\n",
    "filename = \"data.txt\"\n",
    "with open(filename, 'r') as f:\n",
    "    lines = f.read().split(\"\\n\")\n",
    "\n",
    "\n",
    "computer_pairs = [line.split('-') for line in lines]\n",
    "\n",
    "connections = {}\n",
    "for pair in computer_pairs:\n",
    "    connections[pair[0]] = connections.get(pair[0], set()) | {pair[1]}\n",
    "    connections[pair[1]] = connections.get(pair[1], set()) | {pair[0]}\n",
    "    \n",
    "computers = list(connections.keys())\n"
   ]
  },
  {
   "cell_type": "code",
   "execution_count": 13,
   "metadata": {},
   "outputs": [
    {
     "name": "stdout",
     "output_type": "stream",
     "text": [
      "1240\n"
     ]
    }
   ],
   "source": [
    "# part 1\n",
    "\n",
    "groups = [set(x) for x in computer_pairs]\n",
    "groups_3_t = []\n",
    "for computer in computers:\n",
    "    if computer[0] == 't': # only groups with an element that starts with t matter\n",
    "        connected = connections[computer]\n",
    "        for group in groups: # check for every group if we connect with all of them\n",
    "            if group.issubset(connected):\n",
    "                newgroup = group | {computer}\n",
    "                if newgroup not in groups_3_t: # there might be groups with two elements that start with 't'\n",
    "                    groups_3_t.append(newgroup)\n",
    "\n",
    "print(len(groups_3_t))\n"
   ]
  },
  {
   "cell_type": "code",
   "execution_count": 14,
   "metadata": {},
   "outputs": [
    {
     "name": "stdout",
     "output_type": "stream",
     "text": [
      "{'aq', 'rw', 'am', 'te', 'mt', 'by', 'sn', 'zb', 'gf', 'yi', 'ge', 'mr', 'ie'} 13\n",
      "am,aq,by,ge,gf,ie,mr,mt,rw,sn,te,yi,zb\n"
     ]
    }
   ],
   "source": [
    "# part 2\n",
    "\n",
    "max_group = {}\n",
    "max_size = 0\n",
    "\n",
    "def try_appending(current_group, computer_j):\n",
    "\n",
    "    while computer_j < len(computers):\n",
    "        computer = computers[computer_j]\n",
    "        connected = connections[computer]\n",
    "\n",
    "        if current_group.issubset(connected):\n",
    "            # found a new computer we could add\n",
    "            new_group = current_group.copy()\n",
    "            new_group.add(computer)\n",
    "            try_appending(new_group, computer_j + 1) # continue with group with extra computer\n",
    "            try_appending(current_group, computer_j + 1) # continue without extra computer\n",
    "            return\n",
    "        \n",
    "        computer_j += 1\n",
    "        \n",
    "    # we checked all computers! is this group the largest?\n",
    "    global max_size, max_group\n",
    "    if len(current_group) > max_size:\n",
    "        max_size = len(current_group)\n",
    "        max_group = current_group\n",
    "\n",
    "\n",
    "for computer_i in range(len(computers)):\n",
    "    computer = computers[computer_i]\n",
    "    try_appending({computer}, computer_i + 1)\n",
    "\n",
    "\n",
    "print(max_group, max_size)\n",
    "print(','.join(sorted(list(max_group)))) # sort alphabetically, join with commas"
   ]
  }
 ],
 "metadata": {
  "kernelspec": {
   "display_name": "Python 3",
   "language": "python",
   "name": "python3"
  },
  "language_info": {
   "codemirror_mode": {
    "name": "ipython",
    "version": 3
   },
   "file_extension": ".py",
   "mimetype": "text/x-python",
   "name": "python",
   "nbconvert_exporter": "python",
   "pygments_lexer": "ipython3",
   "version": "3.9.6"
  }
 },
 "nbformat": 4,
 "nbformat_minor": 2
}
