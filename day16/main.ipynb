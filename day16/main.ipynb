{
 "cells": [
  {
   "cell_type": "code",
   "execution_count": 1,
   "metadata": {},
   "outputs": [
    {
     "name": "stdout",
     "output_type": "stream",
     "text": [
      "[11048 12048 13048 12048]\n"
     ]
    }
   ],
   "source": [
    "# part 1\n",
    "\n",
    "import os, re, sys\n",
    "import numpy as np\n",
    "\n",
    "filename = \"test1.txt\"\n",
    "with open(filename, 'r') as f:\n",
    "    s = f.read()\n",
    "    rows = s.split(\"\\n\")\n",
    "\n",
    "nx, ny = len(rows[0]), len(rows)\n",
    "board = np.array([[1 if x == \"#\" else 0 for x in row ] for row in rows], dtype=int)\n",
    "\n",
    "y, x, d = ny - 2, 1, 1 # start  \n",
    "goal_y, goal_x = 1, nx - 2 # finish\n",
    "\n",
    "# for each state, how much does it cost to reach it?\n",
    "location_cost = np.full((ny, nx, 4), 0, dtype=int)\n",
    "location_cost[y, x, :] = [1000, 0, 1000, 2000]\n",
    "\n",
    "# recently added states that we should explore furthest\n",
    "new_locs = [(y, x, d_) for d_ in range(4)]\n",
    "\n",
    "# explore the smallest state first!\n",
    "find_smallest = lambda: new_locs[np.argmin([location_cost[loc] for loc in new_locs])]\n",
    "\n",
    "dirs = np.array([[-1, 0], [0, 1], [1, 0], [0, -1]])\n",
    "orientation_cost = [0, 1000, 2000, 1000] # a 90 degr turn costs 1000\n",
    "\n",
    "def update(loc):\n",
    "    y, x, d = loc\n",
    "    dy, dx = dirs[d]\n",
    "    ny, nx = y + dy, x + dx\n",
    "    \n",
    "    cost = location_cost[y, x, d]\n",
    "    new_locs.remove((y, x, d))\n",
    "    if not board[ny, nx]:          \n",
    "        for i in range(4):\n",
    "            if location_cost[ny, nx, i] > cost + orientation_cost[d - i] + 1 or not location_cost[ny, nx, i]:\n",
    "                location_cost[ny, nx, i] = cost + orientation_cost[d - i] + 1\n",
    "                new_locs.append((ny, nx, i))\n",
    "\n",
    "while True:\n",
    "    if max(location_cost[goal_y, goal_x]) > 0:\n",
    "        print(location_cost[goal_y, goal_x]); break\n",
    "    update(find_smallest())"
   ]
  },
  {
   "cell_type": "code",
   "execution_count": 2,
   "metadata": {},
   "outputs": [
    {
     "name": "stdout",
     "output_type": "stream",
     "text": [
      "64\n"
     ]
    }
   ],
   "source": [
    "# part 2\n",
    "\n",
    "final_paths = [[int(board[y, x]) for x in range(nx)] for y in range(ny)]\n",
    "\n",
    "def reconstruct():\n",
    "    \n",
    "    # start at the cheapest states at the finish location\n",
    "    cost = lambda x: location_cost[goal_y, goal_x, x]\n",
    "    minidx = np.where(cost(range(4)) == min(map(cost, range(4))))[0]\n",
    "\n",
    "    locations = [(goal_y, goal_x, i) for i in minidx]\n",
    "    new_locs = [(goal_y, goal_x, i) for i in minidx]\n",
    "    while new_locs:\n",
    "        loc = new_locs.pop()\n",
    "        y, x, d = loc\n",
    "        possible_prev = [(y + 1, x, 0), (y, x - 1, 1), (y - 1, x, 2), (y, x + 1, 3)]\n",
    "\n",
    "        # for each of the surrounding edges, check if it is possible we come from there\n",
    "        for i in range(4):\n",
    "            prev = possible_prev[i]\n",
    "            if location_cost[prev] == location_cost[y, x, d] - 1 - orientation_cost[d - i] and location_cost[prev] != 0:\n",
    "                new_locs.append(prev)\n",
    "                locations.append(prev)\n",
    "\n",
    "                final_paths[prev[0]][prev[1]] = 8\n",
    "    \n",
    "    # unique locations (each location appears up to 4 times, for each direction)\n",
    "    print(len(set(loc[:2] for loc in locations))) \n",
    "\n",
    "reconstruct()\n"
   ]
  },
  {
   "cell_type": "code",
   "execution_count": 3,
   "metadata": {},
   "outputs": [
    {
     "name": "stdout",
     "output_type": "stream",
     "text": [
      "00000000000000000\n",
      "0   0   0   0   0\n",
      "0 0 0 0 0 0 0 0*0\n",
      "0 0 0 0   0   0*0\n",
      "0 0 0 0 000 0 0*0\n",
      "0***0 0 0     0*0\n",
      "0*0*0 0 0 00000*0\n",
      "0*0*  0 0 0*****0\n",
      "0*0*00000 0*000*0\n",
      "0*0*0  *****0***0\n",
      "0*0*000*00000*000\n",
      "0*0*0***0  ***0 0\n",
      "0*0*0*00000*000 0\n",
      "0*0*0*******  0 0\n",
      "0*0*0*000000000 0\n",
      "0*0***          0\n",
      "00000000000000000\n"
     ]
    }
   ],
   "source": [
    "# visualisation of all the tiles that are part of a shortest path\n",
    "for row in final_paths:\n",
    "    for val in row:\n",
    "        print({0: \" \", 1: \"0\", 8: \"*\"}[val], end='')\n",
    "    print('')"
   ]
  }
 ],
 "metadata": {
  "kernelspec": {
   "display_name": "Python 3",
   "language": "python",
   "name": "python3"
  },
  "language_info": {
   "codemirror_mode": {
    "name": "ipython",
    "version": 3
   },
   "file_extension": ".py",
   "mimetype": "text/x-python",
   "name": "python",
   "nbconvert_exporter": "python",
   "pygments_lexer": "ipython3",
   "version": "3.9.6"
  }
 },
 "nbformat": 4,
 "nbformat_minor": 2
}
