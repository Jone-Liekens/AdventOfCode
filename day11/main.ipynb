{
 "cells": [
  {
   "cell_type": "code",
   "execution_count": 347,
   "metadata": {},
   "outputs": [
    {
     "name": "stdout",
     "output_type": "stream",
     "text": [
      "237994815702032\n"
     ]
    }
   ],
   "source": [
    "import numpy as np\n",
    "\n",
    "filename = \"data.txt\"\n",
    "with open(filename, 'r') as f:\n",
    "    s = f.read()\n",
    "    \n",
    "start_stones= [int(x) for x in s.split(\" \")]\n",
    "\n",
    "stones = start_stones.copy()\n",
    "seen_stones = start_stones.copy()\n",
    "\n",
    "new_stones = {0: start_stones.copy()} # for each round, which new stones were spotted?\n",
    "first_seen = {stone: 0 for stone in start_stones} # for each stone, at which round was it first spotted?\n",
    "\n",
    "n_rounds = 75\n",
    "\n",
    "\n",
    "def get_next(stone):\n",
    "    if stone == 0:\n",
    "        return [1]\n",
    "\n",
    "    as_string = str(stone)\n",
    "    if len(as_string) % 2 == 0:\n",
    "        return [int(as_string[:len(as_string)//2]), int(as_string[len(as_string)//2:])]\n",
    "    \n",
    "    return [2024 * stone]\n",
    "\n",
    "\n",
    "for round_i in range(n_rounds):\n",
    "    next_stones = []\n",
    "    for stone in stones:\n",
    "        for new_stone in get_next(stone):\n",
    "            if new_stone not in seen_stones:\n",
    "                seen_stones.append(new_stone)\n",
    "                next_stones.append(new_stone)\n",
    "                first_seen[new_stone] = round_i + 1\n",
    "\n",
    "    stones = next_stones\n",
    "    new_stones[round_i + 1] = stones\n",
    "\n",
    "\n",
    "stone_values = {stone: np.zeros((n_rounds + 1), dtype=int) for stone in first_seen.keys()}\n",
    "\n",
    "for column in range(n_rounds + 1):\n",
    "\n",
    "    for stone in new_stones[column]:\n",
    "        stone_values[stone][column] = 1\n",
    "\n",
    "    for round_i in reversed(range(0, column)):\n",
    "        for stone in reversed(new_stones[round_i]):\n",
    "            total = 0\n",
    "            for linked_stone in get_next(stone):\n",
    "\n",
    "                time_shift = first_seen[stone] - first_seen[linked_stone]\n",
    "                total += stone_values[linked_stone][column - time_shift - 1]\n",
    "\n",
    "            stone_values[stone][column] = total\n",
    "\n",
    "\n",
    "\n",
    "\n",
    "final_score = 0 # sum of the last column of initial elements\n",
    "for stone in start_stones:\n",
    "    final_score += stone_values[stone][-1]\n",
    "print(final_score)\n"
   ]
  }
 ],
 "metadata": {
  "kernelspec": {
   "display_name": "Python 3",
   "language": "python",
   "name": "python3"
  },
  "language_info": {
   "codemirror_mode": {
    "name": "ipython",
    "version": 3
   },
   "file_extension": ".py",
   "mimetype": "text/x-python",
   "name": "python",
   "nbconvert_exporter": "python",
   "pygments_lexer": "ipython3",
   "version": "3.9.6"
  }
 },
 "nbformat": 4,
 "nbformat_minor": 2
}
