{
 "cells": [
  {
   "cell_type": "code",
   "execution_count": 1,
   "metadata": {},
   "outputs": [
    {
     "data": {
      "text/plain": [
       "np.int64(2691)"
      ]
     },
     "execution_count": 1,
     "metadata": {},
     "output_type": "execute_result"
    }
   ],
   "source": [
    "# part 1\n",
    "\n",
    "import numpy as np\n",
    "\n",
    "with open(\"data.txt\", 'r') as f:\n",
    "    things = [thing.split(\"\\n\") for thing in f.read().split(\"\\n\\n\")]\n",
    "\n",
    "\n",
    "keys, locks = [], []\n",
    "for thing in things:\n",
    "    if thing[-1] == \"#####\": # lock\n",
    "        locks.append([sum([thing[j][i] == \"#\" for j in range(7)]) for i in range(5)])\n",
    "    else:\n",
    "        keys.append([sum([thing[j][i] == \"#\" for j in range(7)]) for i in range(5)])\n",
    "\n",
    "\n",
    "sum([((np.array(key) + np.array(lock) - np.array([7] * 5)) <= 0).all() for key in keys for lock in locks])\n",
    "\n",
    "\n",
    "\n"
   ]
  }
 ],
 "metadata": {
  "kernelspec": {
   "display_name": "Python 3",
   "language": "python",
   "name": "python3"
  },
  "language_info": {
   "codemirror_mode": {
    "name": "ipython",
    "version": 3
   },
   "file_extension": ".py",
   "mimetype": "text/x-python",
   "name": "python",
   "nbconvert_exporter": "python",
   "pygments_lexer": "ipython3",
   "version": "3.9.6"
  }
 },
 "nbformat": 4,
 "nbformat_minor": 2
}
