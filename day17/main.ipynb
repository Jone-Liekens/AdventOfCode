{
 "cells": [
  {
   "cell_type": "code",
   "execution_count": null,
   "metadata": {},
   "outputs": [
    {
     "name": "stdout",
     "output_type": "stream",
     "text": [
      "(0, 3, 0, '1,0,2,0,5,7,2,1,3,')\n"
     ]
    }
   ],
   "source": [
    "# part 1\n",
    "import os, re, sys, math\n",
    "import numpy as np\n",
    "\n",
    "def combo(operand):\n",
    "    global A, B, C, OUT\n",
    "    if operand <= 3:\n",
    "        return operand\n",
    "    elif operand == 4:\n",
    "        return A\n",
    "    elif operand == 5:\n",
    "        return B\n",
    "    elif operand == 6:\n",
    "        return C\n",
    "    if operand == 7:\n",
    "        sys.exit()\n",
    "\n",
    "def literal(operand):\n",
    "    return operand\n",
    "\n",
    "def interpret_opcode(opcode, operand):\n",
    "    global A, B, C, IP, OUT\n",
    "    if opcode == 0:\n",
    "        A = math.trunc(A / 2**combo(operand))\n",
    "    elif opcode == 1:\n",
    "        B = B ^ literal(operand) \n",
    "    elif opcode == 2:\n",
    "        B = combo(operand) % 8 \n",
    "    elif opcode == 3:\n",
    "        if A != 0:\n",
    "            IP = literal(operand) - 2\n",
    "    elif opcode == 4:\n",
    "        B = B ^ C\n",
    "    elif opcode == 5:\n",
    "        OUT += str(combo(operand) % 8) + ','\n",
    "    elif opcode == 6:\n",
    "        B = math.trunc(A / 2**combo(operand))\n",
    "    elif opcode == 7:\n",
    "        C = math.trunc(A / 2**combo(operand))\n",
    "\n",
    "    \n",
    "def execute_program(*input, debug = False):\n",
    "    global A, B, C, OUT, IP\n",
    "    A, B, C, operations = input\n",
    "    IP, OUT = 0, ''\n",
    "\n",
    "    while IP + 1 <= len(operations):\n",
    "\n",
    "        opcode, operand = operations[IP], operations[IP + 1]\n",
    "        interpret_opcode(opcode, operand)\n",
    "\n",
    "        IP += 2\n",
    "    \n",
    "    return A, B, C, OUT\n",
    "\n",
    "\n",
    "# some tests, provided by the problem description:\n",
    "\n",
    "test1 = execute_program(0, 0, 9, [2, 6]) # tests op 2\n",
    "assert(test1[1] == 1)\n",
    "\n",
    "test2 = execute_program(10, 0, 0, [5,0,5,1,5,4]) # tests op 5\n",
    "assert(test2[3] == \"0,1,2,\")\n",
    "\n",
    "test3 = execute_program(2024, 0, 0, [0,1,5,4,3,0]) # tests op 0, 5, 3\n",
    "assert[test3[0] == 0]\n",
    "assert(test3[3] == \"4,2,5,6,7,7,7,7,3,1,0,\")\n",
    "\n",
    "test4 = execute_program(0, 29, 0, [1,7]) # tests op 1\n",
    "assert[test3[1] == 26]\n",
    "\n",
    "test5 = execute_program(0, 2024, 43690, [4,0]) # tests op 4\n",
    "assert[test3[1] == 44354]\n",
    "\n",
    "test6 = execute_program(729, 0, 0, [0,1,5,4,3,0]) # tests op 0, 5, 3\n",
    "assert[test3[3] == \"4,6,3,5,6,3,5,2,1,0\"]\n",
    "\n",
    "\n",
    "# solution of part 1\n",
    "print(execute_program(64012472, 0, 0, [2,4,1,7,7,5,0,3,1,7,4,1,5,5,3,0], debug=True))\n"
   ]
  },
  {
   "cell_type": "code",
   "execution_count": null,
   "metadata": {},
   "outputs": [
    {
     "name": "stdout",
     "output_type": "stream",
     "text": [
      "63203070\n",
      "265652340990875\n",
      "(0, 0, 7, '2,4,1,7,7,5,0,3,1,7,4,1,5,5,3,0,')\n"
     ]
    }
   ],
   "source": [
    "# part 2\n",
    "\n",
    "# solve inverse problem: for a sequence of outputs, how do get it?\n",
    "# start at the back (how do we get the last value)\n",
    "\n",
    "# we know a = 0 at the end, because if the program ends the jump instruction was not called \n",
    "\n",
    "def execute_one_round(start_a):\n",
    "    return execute_program(start_a, 0, 0, [2,4,1,7,7,5,0,3,1,7,4,1,5,5])[3]\n",
    "\n",
    "\n",
    "def try_to_find_next(goals, a):  \n",
    "    if not goals: # yes! we found a solution (we are at the beginning of goals, done all of them)\n",
    "        return a\n",
    "    \n",
    "    goal = goals[-1]\n",
    "    for start_a in range(8 * a, 8 * a + 8):\n",
    "        if execute_one_round(start_a) == str(goal) + \",\":\n",
    "            # this a works for the current goal, but does it also work for all the previous goals?\n",
    "            val = try_to_find_next(goals[:-1], start_a)\n",
    "            if val:\n",
    "                # yes it does!\n",
    "                return val\n",
    "    else:\n",
    "        return None\n",
    "\n",
    "goals = [1,0,2,0,5,7,2,1,3]\n",
    "print(try_to_find_next(goals, 0))\n",
    "\n",
    "goals = [2,4,1,7,7,5,0,3,1,7,4,1,5,5,3,0]\n",
    "print(try_to_find_next(goals, 0))\n",
    "\n",
    "print(execute_program(265652340990875, 0, 0, [2,4,1,7,7,5,0,3,1,7,4,1,5,5,3,0], debug=True))"
   ]
  },
  {
   "cell_type": "code",
   "execution_count": 105,
   "metadata": {},
   "outputs": [
    {
     "name": "stdout",
     "output_type": "stream",
     "text": [
      "Should be:\n",
      "1,0,2,0,5,7,2,1,3\n",
      "1,0,2,0,5,7,2,1,3,\n",
      "1,0,2,0,5,7,2,1,3,\n",
      "Should be:\n",
      "2,4,1,7,7,5,0,3,1,7,4,1,5,5,3,0\n",
      "2,4,1,7,7,5,0,3,1,7,4,1,5,5,3,0,\n"
     ]
    }
   ],
   "source": [
    "\n",
    "# test if the solutions of part 2 are correct\n",
    "\n",
    "print(\"Should be:\")\n",
    "print(1,0,2,0,5,7,2,1,3, sep=',')\n",
    "print(execute_program(64012472, 0, 0, [2,4,1,7,7,5,0,3,1,7,4,1,5,5,3,0])[3]) # input of part 1\n",
    "print(execute_program(63203070, 0, 0, [2,4,1,7,7,5,0,3,1,7,4,1,5,5,3,0])[3]) # our solution (is slightly smaller)\n",
    "\n",
    "\n",
    "print(\"Should be:\")\n",
    "print(2,4,1,7,7,5,0,3,1,7,4,1,5,5,3,0, sep=',')\n",
    "print(execute_program(265652340990875, 0, 0, [2,4,1,7,7,5,0,3,1,7,4,1,5,5,3,0])[3]) # solution of part 2\n",
    "\n",
    "\n"
   ]
  }
 ],
 "metadata": {
  "kernelspec": {
   "display_name": "Python 3",
   "language": "python",
   "name": "python3"
  },
  "language_info": {
   "codemirror_mode": {
    "name": "ipython",
    "version": 3
   },
   "file_extension": ".py",
   "mimetype": "text/x-python",
   "name": "python",
   "nbconvert_exporter": "python",
   "pygments_lexer": "ipython3",
   "version": "3.9.6"
  }
 },
 "nbformat": 4,
 "nbformat_minor": 2
}
