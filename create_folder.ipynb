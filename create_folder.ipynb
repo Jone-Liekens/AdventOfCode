{
 "cells": [
  {
   "cell_type": "code",
   "execution_count": null,
   "metadata": {},
   "outputs": [
    {
     "ename": "AttributeError",
     "evalue": "module 'os' has no attribute 'command'",
     "output_type": "error",
     "traceback": [
      "\u001b[0;31m---------------------------------------------------------------------------\u001b[0m",
      "\u001b[0;31mAttributeError\u001b[0m                            Traceback (most recent call last)",
      "Cell \u001b[0;32mIn[24], line 64\u001b[0m\n\u001b[1;32m     60\u001b[0m json\u001b[38;5;241m.\u001b[39mdump(content, f)\n\u001b[1;32m     61\u001b[0m f\u001b[38;5;241m.\u001b[39mclose()\n\u001b[0;32m---> 64\u001b[0m \u001b[43mos\u001b[49m\u001b[38;5;241;43m.\u001b[39;49m\u001b[43mcommand\u001b[49m(\u001b[38;5;124m'\u001b[39m\u001b[38;5;124mgit add \u001b[39m\u001b[38;5;124m\"\u001b[39m\u001b[38;5;124mday*/*\u001b[39m\u001b[38;5;124m\"\u001b[39m\u001b[38;5;124m'\u001b[39m)\n",
      "\u001b[0;31mAttributeError\u001b[0m: module 'os' has no attribute 'command'"
     ]
    }
   ],
   "source": [
    "\n",
    "##########\n",
    "\n",
    "day = 12\n",
    "\n",
    "##########\n",
    "\n",
    "\n",
    "import os, sys, json\n",
    "\n",
    "\n",
    "dirname = \"day\" + [\"0\", ''][day >= 10] + str(day)\n",
    "\n",
    "#print(os.path.exists())\n",
    "if not os.path.exists(\"./\" + dirname):\n",
    "    os.mkdir(dirname)\n",
    "else:\n",
    "    print(\"folder already exists!\")\n",
    "    sys.exit()\n",
    "\n",
    "\n",
    "f = open(\"./\" + dirname + \"/test.txt\", \"w+\")\n",
    "f.close()\n",
    "\n",
    "f = open(\"./\" + dirname + \"/data.txt\", \"w+\")\n",
    "f.close()\n",
    "\n",
    "f = open(\"./\" + dirname + \"/main.ipynb\", \"w+\")\n",
    "\n",
    "content = {\n",
    "    \"cells\": [\n",
    "        {\n",
    "            \"cell_type\": \"code\",\n",
    "            \"execution_count\": None,\n",
    "            \"metadata\": {},\n",
    "            \"outputs\": [],\n",
    "            \"source\": [\n",
    "                \"\\n\",\n",
    "                \"\\n\",\n",
    "                \"filename = \\\"test.txt\\\"\\n\",\n",
    "                \"with open(filename, 'r') as f:\\n\",\n",
    "                \"    s = f.read()\\n\"\n",
    "                \"    rows = s.split(\\\"\\\\n\\\")\\n\",\n",
    "                \"print(rows)\\n\",\n",
    "                \"\\n\",\n",
    "                \"\\n\",\n",
    "                \"\\n\"\n",
    "            ]\n",
    "        }\n",
    "    ],\n",
    "    \"metadata\": {\n",
    "        \"language_info\": {\n",
    "            \"name\": \"python\"\n",
    "        }\n",
    "    },\n",
    "    \"nbformat\": 4,\n",
    "    \"nbformat_minor\": 2\n",
    "}\n",
    "\n",
    "\n",
    "json.dump(content, f)\n",
    "f.close()\n",
    "\n",
    "\n",
    "os.system('git add \"day*/*\"')\n",
    "\n"
   ]
  }
 ],
 "metadata": {
  "kernelspec": {
   "display_name": "Python 3",
   "language": "python",
   "name": "python3"
  },
  "language_info": {
   "codemirror_mode": {
    "name": "ipython",
    "version": 3
   },
   "file_extension": ".py",
   "mimetype": "text/x-python",
   "name": "python",
   "nbconvert_exporter": "python",
   "pygments_lexer": "ipython3",
   "version": "3.9.6"
  }
 },
 "nbformat": 4,
 "nbformat_minor": 2
}
