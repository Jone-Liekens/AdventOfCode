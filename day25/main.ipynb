{
 "cells": [
  {
   "cell_type": "code",
   "execution_count": 3,
   "metadata": {},
   "outputs": [
    {
     "name": "stdout",
     "output_type": "stream",
     "text": [
      "2691\n"
     ]
    }
   ],
   "source": [
    "# part 1\n",
    "\n",
    "import os, re, sys\n",
    "import numpy as np\n",
    "\n",
    "filename = \"data.txt\"\n",
    "with open(filename, 'r') as f:\n",
    "    s = f.read()\n",
    "\n",
    "things = [thing.split(\"\\n\") for thing in s.split(\"\\n\\n\")]\n",
    "\n",
    "\n",
    "keys, locks = [], []\n",
    "\n",
    "for thing in things:\n",
    "    if thing[-1] == \"#####\": # lock\n",
    "        s = [-1] * 5\n",
    "        for i in range(5):\n",
    "            for j in range(7):\n",
    "                if thing[-j-1][i] == '#':\n",
    "                    s[i] += 1\n",
    "                else:\n",
    "                    break\n",
    "        locks.append(s)\n",
    "        \n",
    "        \n",
    "    if thing[0] == \"#####\": # lock\n",
    "        s = [-1] * 5\n",
    "        for i in range(5):\n",
    "            for j in range(7):\n",
    "                if thing[j][i] == '#':\n",
    "                    s[i] += 1\n",
    "                else:\n",
    "                    break\n",
    "        keys.append(s)\n",
    "\n",
    "\n",
    "goal = np.array([5] * 5)\n",
    "succes = 0\n",
    "for key in keys:\n",
    "    for lock in locks:\n",
    "        if ((np.array(key) + np.array(lock) - goal) <= 0).all():\n",
    "            succes += 1\n",
    "print(succes)\n",
    "\n",
    "\n"
   ]
  }
 ],
 "metadata": {
  "kernelspec": {
   "display_name": "Python 3",
   "language": "python",
   "name": "python3"
  },
  "language_info": {
   "codemirror_mode": {
    "name": "ipython",
    "version": 3
   },
   "file_extension": ".py",
   "mimetype": "text/x-python",
   "name": "python",
   "nbconvert_exporter": "python",
   "pygments_lexer": "ipython3",
   "version": "3.9.6"
  }
 },
 "nbformat": 4,
 "nbformat_minor": 2
}
