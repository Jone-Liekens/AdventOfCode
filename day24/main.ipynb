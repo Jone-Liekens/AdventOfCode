{
 "cells": [
  {
   "cell_type": "code",
   "execution_count": 1,
   "metadata": {},
   "outputs": [
    {
     "name": "stdout",
     "output_type": "stream",
     "text": [
      "59619940979346\n"
     ]
    }
   ],
   "source": [
    "# part 1\n",
    "\n",
    "import os, re, sys\n",
    "import numpy as np\n",
    "\n",
    "filename = \"data.txt\"\n",
    "with open(filename, 'r') as f:\n",
    "    s = f.read()\n",
    "    initial, operations = s.split(\"\\n\\n\")\n",
    "\n",
    "\n",
    "calculated = {x.split(\": \")[0]: bool(int(x.split(\": \")[1])) for x in initial.split(\"\\n\")}\n",
    "\n",
    "\n",
    "operations = operations.split(\"\\n\")\n",
    "dependencies = []\n",
    "calculations = []\n",
    "for operation in operations:\n",
    "    args, outcome = operation.split(\" -> \")\n",
    "    args = args.split(\" \")\n",
    "\n",
    "    dependencies.append((args[0], args[2]))\n",
    "    calculations.append((args[1], outcome))\n",
    "\n",
    "\n",
    "\n",
    "def calculate(deps, calcs):\n",
    "\n",
    "    operation, res = calcs\n",
    "    a1, a2 = deps\n",
    "    if operation == 'OR':\n",
    "        calculated[res] = calculated[a1] | calculated[a2]\n",
    "    elif operation == 'XOR':\n",
    "        calculated[res] = calculated[a1] ^ calculated[a2]\n",
    "    elif operation == 'AND':\n",
    "        calculated[res] = calculated[a1] & calculated[a2]\n",
    "\n",
    "\n",
    "to_do = list(range(len(dependencies)))\n",
    "while to_do:\n",
    "    #print(to_do)\n",
    "    for i in to_do:\n",
    "        deps = dependencies[i]\n",
    "        if deps[0] in calculated and deps[1] in calculated:\n",
    "            calculate(deps, calculations[i])\n",
    "            to_do.remove(i)\n",
    "            break\n",
    "\n",
    "\n",
    "\n",
    "count, total = 1, 0\n",
    "for i in range(0, 100):\n",
    "    val = 'z' + [\"0\", ''][i >= 10] + str(i)\n",
    "    if calculated.get(val) is None:\n",
    "        break\n",
    "    #result += str(int(calculated[val]))\n",
    "    total += count * int(calculated[val])\n",
    "    count *= 2\n",
    "\n",
    "print(total)\n"
   ]
  }
 ],
 "metadata": {
  "kernelspec": {
   "display_name": "Python 3",
   "language": "python",
   "name": "python3"
  },
  "language_info": {
   "codemirror_mode": {
    "name": "ipython",
    "version": 3
   },
   "file_extension": ".py",
   "mimetype": "text/x-python",
   "name": "python",
   "nbconvert_exporter": "python",
   "pygments_lexer": "ipython3",
   "version": "3.9.6"
  }
 },
 "nbformat": 4,
 "nbformat_minor": 2
}
