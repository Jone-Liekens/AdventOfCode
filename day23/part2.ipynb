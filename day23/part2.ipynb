{
 "cells": [
  {
   "cell_type": "code",
   "execution_count": null,
   "metadata": {},
   "outputs": [
    {
     "name": "stdout",
     "output_type": "stream",
     "text": [
      "[['kh', 'tc'], ['qp', 'kh'], ['de', 'cg'], ['ka', 'co'], ['yn', 'aq'], ['qp', 'ub'], ['cg', 'tb'], ['vc', 'aq'], ['tb', 'ka'], ['wh', 'tc'], ['yn', 'cg'], ['kh', 'ub'], ['ta', 'co'], ['de', 'co'], ['tc', 'td'], ['tb', 'wq'], ['wh', 'td'], ['ta', 'ka'], ['td', 'qp'], ['aq', 'cg'], ['wq', 'ub'], ['ub', 'vc'], ['de', 'ta'], ['wq', 'aq'], ['wq', 'vc'], ['wh', 'yn'], ['ka', 'de'], ['kh', 'ta'], ['co', 'tc'], ['wh', 'qp'], ['tb', 'vc'], ['td', 'yn']]\n"
     ]
    }
   ],
   "source": [
    "# part 2\n",
    "\n",
    "import os, re, sys\n",
    "import numpy as np\n",
    "\n",
    "filename = \"test.txt\"\n",
    "with open(filename, 'r') as f:\n",
    "    s = f.read()\n",
    "    lines = s.split(\"\\n\")\n",
    "\n",
    "\n",
    "computer_pairs = [line.split('-') for line in lines]\n",
    "print(computer_pairs)\n",
    "\n",
    "\n",
    "\n",
    "connections = {}\n",
    "\n",
    "\n",
    "for pair in computer_pairs:\n",
    "    if connections.get(pair[0]):\n",
    "        connections[pair[0]].add(pair[1])\n",
    "    else:\n",
    "        connections[pair[0]] = {pair[1]}\n",
    "\n",
    "    \n",
    "    if connections.get(pair[1]):\n",
    "        connections[pair[1]].add(pair[0])\n",
    "    else:\n",
    "        connections[pair[1]] = {pair[0]}\n",
    "\n",
    "\n",
    "computers = list(connections.keys())\n",
    "\n",
    "connections_table = np.zeros((len(computers), len(computers)))\n",
    "\n",
    "for computer_i in range(len(computers)):\n",
    "    computer = computers[computer_i]\n",
    "    for connected_computer in connections[computer]:\n",
    "        idx = computers.index(connected_computer)\n",
    "        connections_table[computer_i, idx] = 1 \n",
    "        connections_table[idx, computer_i] = 1 \n"
   ]
  },
  {
   "cell_type": "code",
   "execution_count": null,
   "metadata": {},
   "outputs": [
    {
     "ename": "SyntaxError",
     "evalue": "name 'max_size' is used prior to global declaration (3458794474.py, line 19)",
     "output_type": "error",
     "traceback": [
      "\u001b[0;36m  Cell \u001b[0;32mIn[3], line 19\u001b[0;36m\u001b[0m\n\u001b[0;31m    global max_size, max_group\u001b[0m\n\u001b[0m    ^\u001b[0m\n\u001b[0;31mSyntaxError\u001b[0m\u001b[0;31m:\u001b[0m name 'max_size' is used prior to global declaration\n"
     ]
    }
   ],
   "source": [
    "\n",
    "\n",
    "max_group = {}\n",
    "max_size = 0\n",
    "\n",
    "def try_appending(current_group, computer_j):\n",
    "\n",
    "    while computer_j < len(computers):\n",
    "        computer = computers[computer_j]\n",
    "        connected = connections[computer]\n",
    "        if current_group.issubset(connected):\n",
    "            try_appending(current_group, computer_j + 1)\n",
    "            copy = current_group.copy()\n",
    "            copy.add(computer)\n",
    "            try_appending(copy, computer_j + 1)\n",
    "            return\n",
    "        computer_j += 1\n",
    "        \n",
    "    # we are at the end of the line!\n",
    "    global max_size, max_group\n",
    "    if len(current_group) > max_size:\n",
    "        max_size = len(current_group)\n",
    "        max_group = current_group\n",
    "\n",
    "\n",
    "\n",
    "\n",
    "for computer_i in range(len(computers)):\n",
    "    computer = computers[computer_i]\n",
    "\n",
    "    try_appending({computer}, computer_i + 1)\n",
    "\n",
    "\n"
   ]
  }
 ],
 "metadata": {
  "kernelspec": {
   "display_name": "Python 3",
   "language": "python",
   "name": "python3"
  },
  "language_info": {
   "codemirror_mode": {
    "name": "ipython",
    "version": 3
   },
   "file_extension": ".py",
   "mimetype": "text/x-python",
   "name": "python",
   "nbconvert_exporter": "python",
   "pygments_lexer": "ipython3",
   "version": "3.9.6"
  }
 },
 "nbformat": 4,
 "nbformat_minor": 2
}
