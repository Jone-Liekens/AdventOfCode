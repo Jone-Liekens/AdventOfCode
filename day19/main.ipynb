{
 "cells": [
  {
   "cell_type": "code",
   "execution_count": 25,
   "metadata": {},
   "outputs": [
    {
     "name": "stdout",
     "output_type": "stream",
     "text": [
      "355\n"
     ]
    }
   ],
   "source": [
    "# part 1\n",
    "\n",
    "import os, re, sys\n",
    "import numpy as np\n",
    "\n",
    "filename = \"data.txt\"\n",
    "with open(filename, 'r') as f:\n",
    "    s = f.read()\n",
    "    towels, patterns = s.split(\"\\n\\n\")\n",
    "\n",
    "towels = towels.split(\", \")\n",
    "patterns = patterns.split(\"\\n\")\n",
    "\n",
    "def construct_pattern(pattern):\n",
    "    if not pattern:\n",
    "        return True\n",
    "\n",
    "    for towel in towels:\n",
    "        if len(towel) > len(pattern):\n",
    "            continue\n",
    "        \n",
    "        if pattern[:len(towel)] == towel:\n",
    "            # great! \n",
    "            if construct_pattern(pattern[len(towel):]):\n",
    "                return True\n",
    "            \n",
    "    return False\n",
    "\n",
    "\n",
    "total_possible = 0\n",
    "for pattern in patterns:\n",
    "    total_possible += int(construct_pattern(pattern))\n",
    "print(total_possible)\n",
    "\n"
   ]
  },
  {
   "cell_type": "code",
   "execution_count": 26,
   "metadata": {},
   "outputs": [
    {
     "name": "stdout",
     "output_type": "stream",
     "text": [
      "732978410442050\n"
     ]
    }
   ],
   "source": [
    "# part 2\n",
    "\n",
    "import os, re, sys\n",
    "import numpy as np\n",
    "\n",
    "filename = \"data.txt\"\n",
    "with open(filename, 'r') as f:\n",
    "    s = f.read()\n",
    "    towels, patterns = s.split(\"\\n\\n\")\n",
    "\n",
    "towels = towels.split(\", \")\n",
    "patterns = patterns.split(\"\\n\")\n",
    "\n",
    "\n",
    "constructed_patterns = {}\n",
    "\n",
    "def construct_pattern(pattern):\n",
    "    if not pattern:\n",
    "        return 1\n",
    "    \n",
    "    val = constructed_patterns.get(pattern)\n",
    "    if val:\n",
    "        return val\n",
    "    \n",
    "    ways = 0\n",
    "\n",
    "    for towel in towels:\n",
    "        if len(towel) > len(pattern):\n",
    "            continue\n",
    "        \n",
    "        if pattern[:len(towel)] == towel:\n",
    "            # great! \n",
    "            ways += construct_pattern(pattern[len(towel):])\n",
    "    \n",
    "    constructed_patterns[pattern] = ways\n",
    "    return ways\n",
    "\n",
    "\n",
    "total_ways = 0\n",
    "for pattern in patterns:\n",
    "    total_ways += construct_pattern(pattern)\n",
    "print(total_ways)\n",
    "\n"
   ]
  }
 ],
 "metadata": {
  "kernelspec": {
   "display_name": "Python 3",
   "language": "python",
   "name": "python3"
  },
  "language_info": {
   "codemirror_mode": {
    "name": "ipython",
    "version": 3
   },
   "file_extension": ".py",
   "mimetype": "text/x-python",
   "name": "python",
   "nbconvert_exporter": "python",
   "pygments_lexer": "ipython3",
   "version": "3.9.6"
  }
 },
 "nbformat": 4,
 "nbformat_minor": 2
}
