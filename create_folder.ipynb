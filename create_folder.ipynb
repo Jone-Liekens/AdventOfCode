{
 "cells": [
  {
   "cell_type": "code",
   "execution_count": 2,
   "metadata": {},
   "outputs": [
    {
     "data": {
      "text/plain": [
       "0"
      ]
     },
     "execution_count": 2,
     "metadata": {},
     "output_type": "execute_result"
    }
   ],
   "source": [
    "\n",
    "##########\n",
    "\n",
    "day = 24\n",
    "\n",
    "##########\n",
    "\n",
    "\n",
    "import os, sys, json\n",
    "\n",
    "\n",
    "dirname = \"day\" + [\"0\", ''][day >= 10] + str(day)\n",
    "\n",
    "#print(os.path.exists())\n",
    "if not os.path.exists(\"./\" + dirname):\n",
    "    os.mkdir(dirname)\n",
    "else:\n",
    "    print(\"folder already exists!\")\n",
    "    sys.exit()\n",
    "\n",
    "\n",
    "f = open(\"./\" + dirname + \"/test.txt\", \"w+\")\n",
    "f.close()\n",
    "\n",
    "f = open(\"./\" + dirname + \"/data.txt\", \"w+\")\n",
    "f.close()\n",
    "\n",
    "f = open(\"./\" + dirname + \"/main.ipynb\", \"w+\")\n",
    "\n",
    "content = {\n",
    "    \"cells\": [\n",
    "        {\n",
    "            \"cell_type\": \"code\",\n",
    "            \"execution_count\": None,\n",
    "            \"metadata\": {},\n",
    "            \"outputs\": [],\n",
    "            \"source\": [\n",
    "                \"# part 1\\n\",\n",
    "                \"\\n\",\n",
    "                \"import os, re, sys\\n\",\n",
    "                \"import numpy as np\\n\",\n",
    "                \"\\n\",\n",
    "                \"filename = \\\"test.txt\\\"\\n\",\n",
    "                \"with open(filename, 'r') as f:\\n\",\n",
    "                \"    s = f.read()\\n\"\n",
    "                \"    rows = s.split(\\\"\\\\n\\\")\\n\",\n",
    "                \"print(rows)\\n\",\n",
    "                \"\\n\",\n",
    "                \"\\n\",\n",
    "                \"\\n\"\n",
    "            ]\n",
    "        }\n",
    "    ],\n",
    "    \"metadata\": {\n",
    "        \"language_info\": {\n",
    "            \"name\": \"python\"\n",
    "        }\n",
    "    },\n",
    "    \"nbformat\": 4,\n",
    "    \"nbformat_minor\": 2\n",
    "}\n",
    "\n",
    "\n",
    "json.dump(content, f)\n",
    "f.close()\n",
    "\n",
    "\n",
    "os.system('git add \"day*/*\"')\n",
    "\n"
   ]
  }
 ],
 "metadata": {
  "kernelspec": {
   "display_name": "Python 3",
   "language": "python",
   "name": "python3"
  },
  "language_info": {
   "codemirror_mode": {
    "name": "ipython",
    "version": 3
   },
   "file_extension": ".py",
   "mimetype": "text/x-python",
   "name": "python",
   "nbconvert_exporter": "python",
   "pygments_lexer": "ipython3",
   "version": "3.9.6"
  }
 },
 "nbformat": 4,
 "nbformat_minor": 2
}
