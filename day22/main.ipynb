{
 "cells": [
  {
   "cell_type": "code",
   "execution_count": null,
   "metadata": {},
   "outputs": [
    {
     "name": "stdout",
     "output_type": "stream",
     "text": [
      "14119253575\n",
      "(0, 2, -2, 2) 1600\n",
      "(0, 0, -1, 1) 1598\n",
      "(2, -1, 1, 0) 1596\n",
      "(2, -3, 0, 3) 1526\n",
      "(-1, 0, -1, 4) 1506\n"
     ]
    }
   ],
   "source": [
    "import os, re, sys\n",
    "import numpy as np\n",
    "import math\n",
    "\n",
    "filename = \"data.txt\"\n",
    "with open(filename, 'r') as f:\n",
    "    s = f.read()\n",
    "\n",
    "n = 2000\n",
    "startcodes = [int(x) for x in s.split(\"\\n\")] # real data\n",
    "# startcodes = [1, 2, 3, 2024] # test case\n",
    "\n",
    "def step(secr):\n",
    "    secr = ((64 * secr) ^ secr) % 16777216\n",
    "    secr = (math.floor(secr / 32) ^ secr) % 16777216\n",
    "    secr = ((2048 * secr) ^ secr) % 16777216\n",
    "    return secr\n",
    "\n",
    "# store the prices and price differences (for part 2)\n",
    "prices = np.zeros((len(startcodes), n+1), dtype=int)\n",
    "deltas = np.zeros((len(startcodes), n), dtype=int)\n",
    "\n",
    "total_score = 0\n",
    "for code_i in range(len(startcodes)):\n",
    "    secret = startcodes[code_i]\n",
    "    price = str(secret)[-1]\n",
    "\n",
    "    prices[code_i][0] = price\n",
    "\n",
    "    for i in range(n):\n",
    "        secret = step(secret)\n",
    "        price = int(str(secret)[-1])\n",
    "\n",
    "        prices[code_i, i+1] = price\n",
    "        deltas[code_i, i] = prices[code_i, i+1] - prices[code_i, i]\n",
    "\n",
    "    total_score += secret\n",
    "\n",
    "print(total_score) # answer to part 1\n",
    "\n",
    "\n",
    "abcds_all = {\n",
    "    (a, b, c, d): 0 \\\n",
    "    for a in range(-9, 10) \\\n",
    "    for b in range(-9, 10) \\\n",
    "    for c in range(-9, 10) \\\n",
    "    for d in range(-9, 10) \\\n",
    "}\n",
    "\n",
    "for start_code_i in range(len(startcodes)):\n",
    "    abcds_startcode = {}\n",
    "    for i in range(0, n-3):\n",
    "        abcd = tuple(deltas[start_code_i, i:i+4])\n",
    "\n",
    "        if not abcds_startcode.get(abcd):\n",
    "            abcds_startcode[abcd] = prices[start_code_i, i+4]\n",
    "    \n",
    "    for abcd in abcds_startcode:\n",
    "        abcds_all[abcd] += abcds_startcode[abcd]\n",
    "\n",
    "\n",
    "optimal_abcd = sorted(abcds_all, key=lambda x: abcds_all[x], reverse=True)\n",
    "\n",
    "# answer to part 2\n",
    "for abcd in optimal_abcd[:5]:\n",
    "    print(abcd, abcds_all[abcd])\n"
   ]
  }
 ],
 "metadata": {
  "kernelspec": {
   "display_name": "Python 3",
   "language": "python",
   "name": "python3"
  },
  "language_info": {
   "codemirror_mode": {
    "name": "ipython",
    "version": 3
   },
   "file_extension": ".py",
   "mimetype": "text/x-python",
   "name": "python",
   "nbconvert_exporter": "python",
   "pygments_lexer": "ipython3",
   "version": "3.9.6"
  }
 },
 "nbformat": 4,
 "nbformat_minor": 2
}
