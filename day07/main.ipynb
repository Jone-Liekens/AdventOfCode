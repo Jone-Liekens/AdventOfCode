{
 "cells": [
  {
   "cell_type": "code",
   "execution_count": null,
   "metadata": {},
   "outputs": [],
   "source": [
    "with open(\"data.txt\", 'r') as f:\n",
    "    s = list(map(lambda x: x.split(\":\"), f.read().split(\"\\n\")))\n",
    "print(s)\n",
    "\n",
    "\n",
    "def possible(goal, current, nums):\n",
    "    \n",
    "    if len(nums) == 0:\n",
    "        if goal == current:\n",
    "            return True\n",
    "        return False\n",
    "    # check both * and +\n",
    "    # and ||\n",
    "    if possible(goal, current + nums[0], nums[1:]):\n",
    "        return True\n",
    "    if possible(goal, current * nums[0], nums[1:]):\n",
    "        return True\n",
    "    if possible(goal, int(str(current) + str(nums[0])), nums[1:]):\n",
    "        return True\n",
    "    return False\n",
    "\n",
    "count = 0\n",
    "for row in s:\n",
    "    goal = int(row[0])\n",
    "    nums = list(map(int, row[1][1:].split(\" \")))\n",
    "    print(goal, nums)\n",
    "\n",
    "    if possible(goal, nums[0], nums[1:]):\n",
    "        count += goal\n",
    "\n",
    "print(count)"
   ]
  }
 ],
 "metadata": {
  "language_info": {
   "name": "python"
  }
 },
 "nbformat": 4,
 "nbformat_minor": 2
}
